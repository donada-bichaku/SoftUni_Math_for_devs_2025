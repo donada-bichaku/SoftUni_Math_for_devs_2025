{
 "cells": [
  {
   "cell_type": "code",
   "execution_count": null,
   "id": "70a8ba67-a8f6-44a1-8b1d-573b7ff121ea",
   "metadata": {},
   "outputs": [],
   "source": [
    "%matplotlib inline"
   ]
  },
  {
   "cell_type": "code",
   "execution_count": 2,
   "id": "80dd8846-95cd-4335-ad72-f5831317b23d",
   "metadata": {},
   "outputs": [],
   "source": [
    "import numpy as np\n",
    "import matplotlib.pyplot as plt"
   ]
  },
  {
   "cell_type": "markdown",
   "id": "1086d940-cf48-40ba-9af7-718d8e714db8",
   "metadata": {},
   "source": [
    "### Problem 4. Integrals and Area. Changing Variables in Integration\n",
    "We know that the definition of an integral is the area \"between\" the function we're integrating, and the x-axis. This gives us a method to calculate integrals. Most integrals can't be solved analytically but have numerical solutions. One such integral is \n",
    "$$\\int\\sin(x^2)dx$$\n",
    "\n",
    "Note that we can only solve **definite integrals** numerically.\n",
    "\n",
    "The simplest way to calculate the integral is to apply the definition, like in the case of the derivative. This is called [the trapezoid method](http://www.mathwords.com/t/trapezoid_rule.htm) because the area is approximated as a series of trapezoids.\n",
    "\n",
    "Write a function which does exactly that. Use `numpy` and vectorization as much as possible."
   ]
  },
  {
   "cell_type": "code",
   "execution_count": 17,
   "id": "5b1aa6b2-7206-493a-9aac-b81e16a1d104",
   "metadata": {},
   "outputs": [],
   "source": [
    "def calculate_integral(function, x_min, x_max, num_points = 5000):\n",
    "    \"\"\"\n",
    "    Calculates a numerical approximation of the definite integral of the provided function\n",
    "    between the points x_min and x_max.\n",
    "    The parameter n specifies the number of points at which the integral will be calculated.\n",
    "    In this function we use the math definition in order to manually calculate the integral.\n",
    "    \"\"\"\n",
    "    f = np.vectorize(function)\n",
    "    x = np.linspace(x_min, x_max, num_points)\n",
    "    dx = x[1] - x[0] \n",
    "    return dx/2*(np.sum(2*f(x)) - f(x[0]) - f(x[-1]))\n",
    "\n",
    "\n",
    "def calculate_area_with_np_trapz(func, x_min, x_max, num_points=5000):\n",
    "    \"\"\"\n",
    "    This function is the same as the one above, but optimized for performace as it uses the built-in integrator of NumPy. \n",
    "    \"\"\"\n",
    "    x  = np.linspace(x_min, x_max, num_points)\n",
    "    y  = func(x)                  \n",
    "    return np.trapz(y, x) "
   ]
  },
  {
   "cell_type": "markdown",
   "id": "b95ddad1-8f2e-4989-9a9b-85f1a1ac144f",
   "metadata": {},
   "source": [
    "If our math is correct both functions should give the same result, and they do! Try it out below."
   ]
  },
  {
   "cell_type": "code",
   "execution_count": 19,
   "id": "79282b87-1049-4686-9bab-51b4e793a3c2",
   "metadata": {},
   "outputs": [
    {
     "name": "stdout",
     "output_type": "stream",
     "text": [
      "Result with manual calculation using pure math: 0.33333334000266746\n",
      "Result with np.trapz: 0.33333334000266746\n",
      "\n",
      "Result with manual calculation using pure math: 0.5279181074995319\n",
      "Result with np.trapz: 0.5279181074995325\n"
     ]
    }
   ],
   "source": [
    "print(f\"Result with manual calculation using pure math: {calculate_integral(lambda x: x ** 2, 0, 1)}\") # Should be close to 0.333\n",
    "print(f\"Result with np.trapz: {calculate_area_with_np_trapz(lambda x: x ** 2, 0, 1)}\")\n",
    "print()\n",
    "print(f\"Result with manual calculation using pure math: {calculate_integral(lambda x: np.sin(x ** 2), 0, 5)}\") # Should be close to 0.528\n",
    "print(f\"Result with np.trapz: {calculate_area_with_np_trapz(lambda x: np.sin(x ** 2), 0, 5)}\")"
   ]
  },
  {
   "cell_type": "markdown",
   "id": "1ceb1b41-dec2-4052-b740-f10ad4b3fe04",
   "metadata": {},
   "source": [
    "Let's apply our insight to finding the area of a circle. We know the equation of a circle is not a function (it's more like two functions). We can, however be clever. One way is to integrate both of the functions and add them together. Another way is to integrate one and double the area. \n",
    "\n",
    "**Note:** We're trying to find the total area of the circle, there is **no negative area** in this particular case.\n",
    "\n",
    "Another, even more clever way is to look at a quarter of the circle. This is convenient because we may look at the quadrant where $x > 0$ and $y > 0$. So, we'll need to find the area between:\n",
    "1. $x \\ge 0$\n",
    "2. $y \\ge 0$\n",
    "3. The circle $x^2 + y^2 \\le R^2$ (let's fix the radius to be 1)\n",
    "\n",
    "$\\Rightarrow y = \\sqrt{R^2 - x^2} = \\sqrt{1 - x^2}$\n",
    "\n",
    "After all of this, we'll need to multiply the result by 4.\n",
    "\n",
    "$$ S = 4 \\int_0^1\\sqrt{1 - x^2}dx $$"
   ]
  },
  {
   "cell_type": "code",
   "execution_count": 20,
   "id": "339e6d10-3b8a-49e5-88ef-71a14b2f140e",
   "metadata": {},
   "outputs": [
    {
     "name": "stdout",
     "output_type": "stream",
     "text": [
      "3.1415893264324883\n"
     ]
    }
   ],
   "source": [
    "circle_piece_area = calculate_integral(lambda x: np.sqrt(1 - x ** 2), 0, 1)\n",
    "total_area = 4 * circle_piece_area\n",
    "print(total_area)"
   ]
  },
  {
   "cell_type": "markdown",
   "id": "6a88f820-73fb-44b0-9ffc-472b1584d463",
   "metadata": {},
   "source": [
    "And we got a value close to $\\pi$, which is the real answer.\n",
    "\n",
    "#### * Optional: Integration in polar coordinates\n",
    "We can, however, do better. We know that a circle looks much simpler in polar coordinates. Let's now change our viewpoint.\n",
    "\n",
    "In polar coordinates $(r, \\varphi)$, the equation of a circle is\n",
    "\n",
    "$$ r = R $$\n",
    "\n",
    "which is our case simplifies to $r = 1$. Note there's no dependence on $\\theta$: the radius is the same regardless of the angle. The boundaries for $\\theta$ are every possible angle from $0$ to $2\\pi$ radians. For $r$, we have $r \\ge 0$ and $r \\le R$. This translates to the integral:\n",
    "\n",
    "$$ S = \\int_{\\theta=0}^{2\\pi}\\int_{r=0}^R r dr d\\theta $$\n",
    "\n",
    "**Note:** We usually don't write the variables at the bottom of the integral symbol. I've done this just for clarity.\n",
    "\n",
    "I won't go into details but since there's no dependence on $\\theta$, we can simply \"separate the integrals\" and multiply \n",
    "them.\n",
    "\n",
    "$$ S = \\int_{0}^{2\\pi}d\\theta .\\int_{r=0}^R r dr $$\n",
    "\n",
    "The first one is:\n",
    "$$ I_1 = \\int_0^R r dr = \\left.\\frac{r^2}{2}\\right|_{0}^{R} = \\frac{R^2}{2} - \\frac{0^2}{2} = \\frac{R^2}{2} $$\n",
    "\n",
    "And the second one is:\n",
    "$$ I_2 = \\int_0^{2\\pi}1d\\theta = \\left.\\theta\\right|_0^{2\\pi} = 2\\pi - 0 = 2\\pi $$\n",
    "\n",
    "$$ \\Rightarrow  S = I_1I_2 = 2\\pi\\frac{R^2}{2} = \\pi R^2$$\n",
    "\n",
    "$$ S = \\pi R^2$$"
   ]
  },
  {
   "cell_type": "code",
   "execution_count": null,
   "id": "aa3d6976-bff4-4e5c-99e5-809ee9109eac",
   "metadata": {},
   "outputs": [],
   "source": []
  }
 ],
 "metadata": {
  "kernelspec": {
   "display_name": "Python 3 (ipykernel)",
   "language": "python",
   "name": "python3"
  },
  "language_info": {
   "codemirror_mode": {
    "name": "ipython",
    "version": 3
   },
   "file_extension": ".py",
   "mimetype": "text/x-python",
   "name": "python",
   "nbconvert_exporter": "python",
   "pygments_lexer": "ipython3",
   "version": "3.10.16"
  }
 },
 "nbformat": 4,
 "nbformat_minor": 5
}
