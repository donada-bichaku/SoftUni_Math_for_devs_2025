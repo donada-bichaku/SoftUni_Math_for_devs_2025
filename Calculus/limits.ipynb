{
 "cells": [
  {
   "cell_type": "code",
   "execution_count": 3,
   "id": "ec2505d6-0d2b-4acb-908b-06dfcf2d8211",
   "metadata": {},
   "outputs": [],
   "source": [
    "%matplotlib inline"
   ]
  },
  {
   "cell_type": "code",
   "execution_count": 2,
   "id": "9933c97c-72b6-4012-b007-32fdbed7f223",
   "metadata": {},
   "outputs": [],
   "source": [
    "import numpy as np\n",
    "import matplotlib.pyplot as plt"
   ]
  },
  {
   "cell_type": "markdown",
   "id": "b8490590-9cc9-4dd1-8f82-b119ba23d722",
   "metadata": {},
   "source": [
    "### Problem 2. Limits. The Number $e$ as a Limit\n",
    "We know what limits are, what they mean and how they relate to our tasks. Let's explore a special limit. This one arises from economics but we'll see it has applications throughout science because of its unique properties.\n",
    "\n",
    "Imagine you're saving money in a bank. Every period, you accumulate [interest](https://en.wikipedia.org/wiki/Compound_interest) on your money. Let's say the bank is very generous and gives you **100% interest every year**.\n",
    "\n",
    "How much money will you have after one year? Let's say you got $\\$1$. After one year, you'll get your interest from the bank and you'll have $\\$2$. Your money doubled, which was expected.\n",
    "\n",
    "How about this offer: **50% interest every 6 months**? Will this be the same, better, or worse?\n",
    "You start with $\\$1$. After 6 months, you'll accumulate $50%$ interest to get $\\$1,50$. After 6 more months, you'll get $50\\%.1,50 = 0,75$, so your total is $2,25$. You got $\\$0,25$ more!\n",
    "\n",
    "Let's try to exploit the scheme and get rich.\n",
    "\n",
    "**$100/12\\%$ every month**\n",
    "* January: $1 + 1/12$\n",
    "* February: $(1 + 1/12) * (1 + 1/12)$\n",
    "* March: $(1 + 1/12) * (1 + 1/12) * (1 + 1/12)$\n",
    "* ...\n",
    "\n",
    "We can see a pattern. Every period, we multiply our money by $1 + 1/12$. So, the final sum will be $$\\$1.\\left(1+\\frac{1}{12}\\right)^{12} = \\$2,61$$\n",
    "\n",
    "We did even better. This is always true. The more periods, the more money we accumulate. The more money we have, the more interest we accumulate. And that completes the vicious circle known as money saving :).\n",
    "\n",
    "Let's try other options:\n",
    "\n",
    "**$100/52\\%$ every week**\n",
    "\n",
    "$\\$1.\\left(1+\\frac{1}{52}\\right)^{52} = \\$2,69$\n",
    "\n",
    "**$100/31556926\\%$ every second**\n",
    "\n",
    "$\\$1.\\left(1+\\frac{1}{31556926}\\right)^{31556926} = \\$2,718$\n",
    "\n",
    "Well, there's a slight problem to our world domination plans. Even though we accumulate more and more money, we get *diminishing returns*. For 52 periods we got $2,69$, and for more than 3 million periods we only got like $\\$0,02$ more. This pattern will continue.\n",
    "\n",
    "Now we can ask ourselves, what is the maximum profit we can accumulate for a year? To do this, we can ask\n",
    "$$ \\lim_{n \\ \\rightarrow \\infty}\\left(1+\\frac{1}{n}\\right)^n = ? $$\n",
    "\n",
    "It turns out this is a constant. It is approximately equal to $2,71828182\\dots$. Since it's very useful, it's got a name: $e$, or Euler's number (sometimes called Napier's number). The limit above is **the definition of $e$**.\n",
    "\n",
    "Why is it so useful? Let's go back to the original problem. In compound interest, the extra amount after every period is proportional to the amount at the start of the period. In other words, **the rate of change of a value is proportional to the value**. This pops out everywhere in nature and business. Some examples include radioactive decay (more atoms $\\Rightarrow$ more decays), cooling down a cup of tea (the rate of cooling down depends on the temperature difference between the cup and the room), animal population models (more animals $\\Rightarrow$ more babies), infection models, and so on.\n",
    "\n",
    "To quickly verify the value of $e$, calculate the limit as we defined it above."
   ]
  },
  {
   "cell_type": "code",
   "execution_count": 37,
   "id": "6225d9bc-16af-460a-b81c-2f185af6f637",
   "metadata": {},
   "outputs": [],
   "source": [
    "def calculate_limit_at_infinity(function):\n",
    "    \"\"\"\n",
    "    Calculates a numerical approximation of the limit of the specified function\n",
    "    as its parameter goes to infinity\n",
    "    \"\"\"\n",
    "    n = 10 ** np.arange(0, 10)\n",
    "    return zip(n, function(n))"
   ]
  },
  {
   "cell_type": "code",
   "execution_count": 40,
   "id": "503ec988-ddb2-4a1b-ab4f-6eac33a720fc",
   "metadata": {},
   "outputs": [
    {
     "name": "stdout",
     "output_type": "stream",
     "text": [
      "(1, 2.0)\n",
      "(10, 2.5937424601000023)\n",
      "(100, 2.7048138294215285)\n",
      "(1000, 2.7169239322355936)\n",
      "(10000, 2.7181459268249255)\n",
      "(100000, 2.7182682371922975)\n",
      "(1000000, 2.7182804690957534)\n",
      "(10000000, 2.7182816941320818)\n",
      "(100000000, 2.7182817983473577)\n",
      "(1000000000, 2.7182820520115603)\n"
     ]
    }
   ],
   "source": [
    "limits = calculate_limit_at_infinity(lambda n: (1 + 1 / n) ** n)\n",
    "for limit in limits:\n",
    "    print(limit)"
   ]
  },
  {
   "cell_type": "code",
   "execution_count": 27,
   "id": "4799a164-4a7b-4a14-a871-aa590346aef6",
   "metadata": {},
   "outputs": [],
   "source": [
    "def visualize_limit_at_infinity(function):\n",
    "    \"\"\"\n",
    "    Prepares plotting graphically approximation of the limit of the function as it's parameter goes to infinity. \n",
    "    \"\"\"\n",
    "    x = np.linspace(1, 10000, 100000)\n",
    "    y = function(x)\n",
    "    return x, y"
   ]
  },
  {
   "cell_type": "code",
   "execution_count": 30,
   "id": "0bd56a63-c83a-4153-bc94-3785d2b38368",
   "metadata": {},
   "outputs": [
    {
     "data": {
      "image/png": "[encoded data removed]",
      "text/plain": [
       "<Figure size 640x480 with 1 Axes>"
      ]
     },
     "metadata": {},
     "output_type": "display_data"
    }
   ],
   "source": [
    "x, y = visualize_limit_at_infinity(lambda n: (1 + 1 / n) ** n)\n",
    "plt.plot(x, y)\n",
    "plt.axhline(np.e, ls='--', c='gray', label=r'$e$')\n",
    "plt.xscale('log')\n",
    "plt.xlabel('n')\n",
    "plt.ylabel('value')\n",
    "plt.legend()\n",
    "plt.show()"
   ]
  },
  {
   "cell_type": "markdown",
   "id": "e8330b79-cd7c-43b4-a7f0-30f3676e22dd",
   "metadata": {},
   "source": [
    "We can clearly see graphically and numerically that $\\mathop {\\lim }\\limits_{n \\to \\infty } \\left( {1 + \\frac{1}{n}} \\right)^n = e \\approx 2.71828$"
   ]
  }
 ],
 "metadata": {
  "kernelspec": {
   "display_name": "Python 3 (ipykernel)",
   "language": "python",
   "name": "python3"
  },
  "language_info": {
   "codemirror_mode": {
    "name": "ipython",
    "version": 3
   },
   "file_extension": ".py",
   "mimetype": "text/x-python",
   "name": "python",
   "nbconvert_exporter": "python",
   "pygments_lexer": "ipython3",
   "version": "3.10.16"
  }
 },
 "nbformat": 4,
 "nbformat_minor": 5
}
